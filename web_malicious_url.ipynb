{
 "cells": [
  {
   "cell_type": "code",
   "execution_count": null,
   "id": "25c15848",
   "metadata": {},
   "outputs": [],
   "source": [
    "from flask import Flask, request, render_template\n",
    "import pickle\n",
    "import joblib\n",
    "\n",
    "app = Flask(__name__)\n",
    "model=joblib.load('Naive_Bayes.pkl')\n",
    "\n",
    "def extract_features(url):\n",
    "    count_https = url.count('https://')\n",
    "    count_http = url.count('http://')\n",
    "    url_length = len(url)\n",
    "    count_sym = url.count('@')\n",
    "    is_exe = url.count('.exe')\n",
    "    count_digits = sum(1 for i in url if i.isdigit())\n",
    "    count_letters = sum(1 for i in url if i.isalpha())\n",
    "    count_dirs = url.count('/')\n",
    "    \n",
    "    return [count_https, count_http, url_length, count_sym, is_exe, count_digits, count_letters, count_dirs]\n",
    "\n",
    "@app.route('/')\n",
    "def index():\n",
    "    return render_template('index.html')\n",
    "\n",
    "@app.route('/predict', methods=['POST'])\n",
    "def predict():\n",
    "    url = request.form['url']\n",
    "    features = extract_features(url)\n",
    "    prediction = model.predict([features])[0]\n",
    "    return render_template('index.html', prediction=prediction)\n",
    "\n",
    "if __name__ == '__main__':\n",
    "    app.run(debug=False)\n"
   ]
  },
  {
   "cell_type": "code",
   "execution_count": null,
   "id": "04b04a21",
   "metadata": {},
   "outputs": [],
   "source": []
  }
 ],
 "metadata": {
  "kernelspec": {
   "display_name": "Python 3 (ipykernel)",
   "language": "python",
   "name": "python3"
  },
  "language_info": {
   "codemirror_mode": {
    "name": "ipython",
    "version": 3
   },
   "file_extension": ".py",
   "mimetype": "text/x-python",
   "name": "python",
   "nbconvert_exporter": "python",
   "pygments_lexer": "ipython3",
   "version": "3.12.3"
  }
 },
 "nbformat": 4,
 "nbformat_minor": 5
}
